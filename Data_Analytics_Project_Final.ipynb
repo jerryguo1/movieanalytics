{
  "cells": [
    {
      "cell_type": "code",
      "execution_count": null,
      "id": "9d9a7bd1",
      "metadata": {
        "id": "9d9a7bd1",
        "outputId": "da79abd6-760c-4562-8e7e-c2304d5725a8"
      },
      "outputs": [
        {
          "data": {
            "text/html": [
              "\n",
              "    <div class=\"bk-root\">\n",
              "        <a href=\"https://bokeh.org\" target=\"_blank\" class=\"bk-logo bk-logo-small bk-logo-notebook\"></a>\n",
              "        <span id=\"1002\">Loading BokehJS ...</span>\n",
              "    </div>"
            ]
          },
          "metadata": {},
          "output_type": "display_data"
        },
        {
          "data": {
            "application/javascript": [
              "\n",
              "(function(root) {\n",
              "  function now() {\n",
              "    return new Date();\n",
              "  }\n",
              "\n",
              "  const force = true;\n",
              "\n",
              "  if (typeof root._bokeh_onload_callbacks === \"undefined\" || force === true) {\n",
              "    root._bokeh_onload_callbacks = [];\n",
              "    root._bokeh_is_loading = undefined;\n",
              "  }\n",
              "\n",
              "  const JS_MIME_TYPE = 'application/javascript';\n",
              "  const HTML_MIME_TYPE = 'text/html';\n",
              "  const EXEC_MIME_TYPE = 'application/vnd.bokehjs_exec.v0+json';\n",
              "  const CLASS_NAME = 'output_bokeh rendered_html';\n",
              "\n",
              "  /**\n",
              "   * Render data to the DOM node\n",
              "   */\n",
              "  function render(props, node) {\n",
              "    const script = document.createElement(\"script\");\n",
              "    node.appendChild(script);\n",
              "  }\n",
              "\n",
              "  /**\n",
              "   * Handle when an output is cleared or removed\n",
              "   */\n",
              "  function handleClearOutput(event, handle) {\n",
              "    const cell = handle.cell;\n",
              "\n",
              "    const id = cell.output_area._bokeh_element_id;\n",
              "    const server_id = cell.output_area._bokeh_server_id;\n",
              "    // Clean up Bokeh references\n",
              "    if (id != null && id in Bokeh.index) {\n",
              "      Bokeh.index[id].model.document.clear();\n",
              "      delete Bokeh.index[id];\n",
              "    }\n",
              "\n",
              "    if (server_id !== undefined) {\n",
              "      // Clean up Bokeh references\n",
              "      const cmd_clean = \"from bokeh.io.state import curstate; print(curstate().uuid_to_server['\" + server_id + \"'].get_sessions()[0].document.roots[0]._id)\";\n",
              "      cell.notebook.kernel.execute(cmd_clean, {\n",
              "        iopub: {\n",
              "          output: function(msg) {\n",
              "            const id = msg.content.text.trim();\n",
              "            if (id in Bokeh.index) {\n",
              "              Bokeh.index[id].model.document.clear();\n",
              "              delete Bokeh.index[id];\n",
              "            }\n",
              "          }\n",
              "        }\n",
              "      });\n",
              "      // Destroy server and session\n",
              "      const cmd_destroy = \"import bokeh.io.notebook as ion; ion.destroy_server('\" + server_id + \"')\";\n",
              "      cell.notebook.kernel.execute(cmd_destroy);\n",
              "    }\n",
              "  }\n",
              "\n",
              "  /**\n",
              "   * Handle when a new output is added\n",
              "   */\n",
              "  function handleAddOutput(event, handle) {\n",
              "    const output_area = handle.output_area;\n",
              "    const output = handle.output;\n",
              "\n",
              "    // limit handleAddOutput to display_data with EXEC_MIME_TYPE content only\n",
              "    if ((output.output_type != \"display_data\") || (!Object.prototype.hasOwnProperty.call(output.data, EXEC_MIME_TYPE))) {\n",
              "      return\n",
              "    }\n",
              "\n",
              "    const toinsert = output_area.element.find(\".\" + CLASS_NAME.split(' ')[0]);\n",
              "\n",
              "    if (output.metadata[EXEC_MIME_TYPE][\"id\"] !== undefined) {\n",
              "      toinsert[toinsert.length - 1].firstChild.textContent = output.data[JS_MIME_TYPE];\n",
              "      // store reference to embed id on output_area\n",
              "      output_area._bokeh_element_id = output.metadata[EXEC_MIME_TYPE][\"id\"];\n",
              "    }\n",
              "    if (output.metadata[EXEC_MIME_TYPE][\"server_id\"] !== undefined) {\n",
              "      const bk_div = document.createElement(\"div\");\n",
              "      bk_div.innerHTML = output.data[HTML_MIME_TYPE];\n",
              "      const script_attrs = bk_div.children[0].attributes;\n",
              "      for (let i = 0; i < script_attrs.length; i++) {\n",
              "        toinsert[toinsert.length - 1].firstChild.setAttribute(script_attrs[i].name, script_attrs[i].value);\n",
              "        toinsert[toinsert.length - 1].firstChild.textContent = bk_div.children[0].textContent\n",
              "      }\n",
              "      // store reference to server id on output_area\n",
              "      output_area._bokeh_server_id = output.metadata[EXEC_MIME_TYPE][\"server_id\"];\n",
              "    }\n",
              "  }\n",
              "\n",
              "  function register_renderer(events, OutputArea) {\n",
              "\n",
              "    function append_mime(data, metadata, element) {\n",
              "      // create a DOM node to render to\n",
              "      const toinsert = this.create_output_subarea(\n",
              "        metadata,\n",
              "        CLASS_NAME,\n",
              "        EXEC_MIME_TYPE\n",
              "      );\n",
              "      this.keyboard_manager.register_events(toinsert);\n",
              "      // Render to node\n",
              "      const props = {data: data, metadata: metadata[EXEC_MIME_TYPE]};\n",
              "      render(props, toinsert[toinsert.length - 1]);\n",
              "      element.append(toinsert);\n",
              "      return toinsert\n",
              "    }\n",
              "\n",
              "    /* Handle when an output is cleared or removed */\n",
              "    events.on('clear_output.CodeCell', handleClearOutput);\n",
              "    events.on('delete.Cell', handleClearOutput);\n",
              "\n",
              "    /* Handle when a new output is added */\n",
              "    events.on('output_added.OutputArea', handleAddOutput);\n",
              "\n",
              "    /**\n",
              "     * Register the mime type and append_mime function with output_area\n",
              "     */\n",
              "    OutputArea.prototype.register_mime_type(EXEC_MIME_TYPE, append_mime, {\n",
              "      /* Is output safe? */\n",
              "      safe: true,\n",
              "      /* Index of renderer in `output_area.display_order` */\n",
              "      index: 0\n",
              "    });\n",
              "  }\n",
              "\n",
              "  // register the mime type if in Jupyter Notebook environment and previously unregistered\n",
              "  if (root.Jupyter !== undefined) {\n",
              "    const events = require('base/js/events');\n",
              "    const OutputArea = require('notebook/js/outputarea').OutputArea;\n",
              "\n",
              "    if (OutputArea.prototype.mime_types().indexOf(EXEC_MIME_TYPE) == -1) {\n",
              "      register_renderer(events, OutputArea);\n",
              "    }\n",
              "  }\n",
              "\n",
              "  \n",
              "  if (typeof (root._bokeh_timeout) === \"undefined\" || force === true) {\n",
              "    root._bokeh_timeout = Date.now() + 5000;\n",
              "    root._bokeh_failed_load = false;\n",
              "  }\n",
              "\n",
              "  const NB_LOAD_WARNING = {'data': {'text/html':\n",
              "     \"<div style='background-color: #fdd'>\\n\"+\n",
              "     \"<p>\\n\"+\n",
              "     \"BokehJS does not appear to have successfully loaded. If loading BokehJS from CDN, this \\n\"+\n",
              "     \"may be due to a slow or bad network connection. Possible fixes:\\n\"+\n",
              "     \"</p>\\n\"+\n",
              "     \"<ul>\\n\"+\n",
              "     \"<li>re-rerun `output_notebook()` to attempt to load from CDN again, or</li>\\n\"+\n",
              "     \"<li>use INLINE resources instead, as so:</li>\\n\"+\n",
              "     \"</ul>\\n\"+\n",
              "     \"<code>\\n\"+\n",
              "     \"from bokeh.resources import INLINE\\n\"+\n",
              "     \"output_notebook(resources=INLINE)\\n\"+\n",
              "     \"</code>\\n\"+\n",
              "     \"</div>\"}};\n",
              "\n",
              "  function display_loaded() {\n",
              "    const el = document.getElementById(\"1002\");\n",
              "    if (el != null) {\n",
              "      el.textContent = \"BokehJS is loading...\";\n",
              "    }\n",
              "    if (root.Bokeh !== undefined) {\n",
              "      if (el != null) {\n",
              "        el.textContent = \"BokehJS \" + root.Bokeh.version + \" successfully loaded.\";\n",
              "      }\n",
              "    } else if (Date.now() < root._bokeh_timeout) {\n",
              "      setTimeout(display_loaded, 100)\n",
              "    }\n",
              "  }\n",
              "\n",
              "\n",
              "  function run_callbacks() {\n",
              "    try {\n",
              "      root._bokeh_onload_callbacks.forEach(function(callback) {\n",
              "        if (callback != null)\n",
              "          callback();\n",
              "      });\n",
              "    } finally {\n",
              "      delete root._bokeh_onload_callbacks\n",
              "    }\n",
              "    console.debug(\"Bokeh: all callbacks have finished\");\n",
              "  }\n",
              "\n",
              "  function load_libs(css_urls, js_urls, callback) {\n",
              "    if (css_urls == null) css_urls = [];\n",
              "    if (js_urls == null) js_urls = [];\n",
              "\n",
              "    root._bokeh_onload_callbacks.push(callback);\n",
              "    if (root._bokeh_is_loading > 0) {\n",
              "      console.debug(\"Bokeh: BokehJS is being loaded, scheduling callback at\", now());\n",
              "      return null;\n",
              "    }\n",
              "    if (js_urls == null || js_urls.length === 0) {\n",
              "      run_callbacks();\n",
              "      return null;\n",
              "    }\n",
              "    console.debug(\"Bokeh: BokehJS not loaded, scheduling load and callback at\", now());\n",
              "    root._bokeh_is_loading = css_urls.length + js_urls.length;\n",
              "\n",
              "    function on_load() {\n",
              "      root._bokeh_is_loading--;\n",
              "      if (root._bokeh_is_loading === 0) {\n",
              "        console.debug(\"Bokeh: all BokehJS libraries/stylesheets loaded\");\n",
              "        run_callbacks()\n",
              "      }\n",
              "    }\n",
              "\n",
              "    function on_error(url) {\n",
              "      console.error(\"failed to load \" + url);\n",
              "    }\n",
              "\n",
              "    for (let i = 0; i < css_urls.length; i++) {\n",
              "      const url = css_urls[i];\n",
              "      const element = document.createElement(\"link\");\n",
              "      element.onload = on_load;\n",
              "      element.onerror = on_error.bind(null, url);\n",
              "      element.rel = \"stylesheet\";\n",
              "      element.type = \"text/css\";\n",
              "      element.href = url;\n",
              "      console.debug(\"Bokeh: injecting link tag for BokehJS stylesheet: \", url);\n",
              "      document.body.appendChild(element);\n",
              "    }\n",
              "\n",
              "    for (let i = 0; i < js_urls.length; i++) {\n",
              "      const url = js_urls[i];\n",
              "      const element = document.createElement('script');\n",
              "      element.onload = on_load;\n",
              "      element.onerror = on_error.bind(null, url);\n",
              "      element.async = false;\n",
              "      element.src = url;\n",
              "      console.debug(\"Bokeh: injecting script tag for BokehJS library: \", url);\n",
              "      document.head.appendChild(element);\n",
              "    }\n",
              "  };\n",
              "\n",
              "  function inject_raw_css(css) {\n",
              "    const element = document.createElement(\"style\");\n",
              "    element.appendChild(document.createTextNode(css));\n",
              "    document.body.appendChild(element);\n",
              "  }\n",
              "\n",
              "  \n",
              "  const js_urls = [\"https://cdn.bokeh.org/bokeh/release/bokeh-2.4.2.min.js\", \"https://cdn.bokeh.org/bokeh/release/bokeh-gl-2.4.2.min.js\", \"https://cdn.bokeh.org/bokeh/release/bokeh-widgets-2.4.2.min.js\", \"https://cdn.bokeh.org/bokeh/release/bokeh-tables-2.4.2.min.js\", \"https://cdn.bokeh.org/bokeh/release/bokeh-mathjax-2.4.2.min.js\"];\n",
              "  const css_urls = [];\n",
              "  \n",
              "\n",
              "  const inline_js = [\n",
              "    function(Bokeh) {\n",
              "      Bokeh.set_log_level(\"info\");\n",
              "    },\n",
              "    function(Bokeh) {\n",
              "    \n",
              "    \n",
              "    }\n",
              "  ];\n",
              "\n",
              "  function run_inline_js() {\n",
              "    \n",
              "    if (root.Bokeh !== undefined || force === true) {\n",
              "      \n",
              "    for (let i = 0; i < inline_js.length; i++) {\n",
              "      inline_js[i].call(root, root.Bokeh);\n",
              "    }\n",
              "    if (force === true) {\n",
              "        display_loaded();\n",
              "      }} else if (Date.now() < root._bokeh_timeout) {\n",
              "      setTimeout(run_inline_js, 100);\n",
              "    } else if (!root._bokeh_failed_load) {\n",
              "      console.log(\"Bokeh: BokehJS failed to load within specified timeout.\");\n",
              "      root._bokeh_failed_load = true;\n",
              "    } else if (force !== true) {\n",
              "      const cell = $(document.getElementById(\"1002\")).parents('.cell').data().cell;\n",
              "      cell.output_area.append_execute_result(NB_LOAD_WARNING)\n",
              "    }\n",
              "\n",
              "  }\n",
              "\n",
              "  if (root._bokeh_is_loading === 0) {\n",
              "    console.debug(\"Bokeh: BokehJS loaded, going straight to plotting\");\n",
              "    run_inline_js();\n",
              "  } else {\n",
              "    load_libs(css_urls, js_urls, function() {\n",
              "      console.debug(\"Bokeh: BokehJS plotting callback run at\", now());\n",
              "      run_inline_js();\n",
              "    });\n",
              "  }\n",
              "}(window));"
            ],
            "application/vnd.bokehjs_load.v0+json": "\n(function(root) {\n  function now() {\n    return new Date();\n  }\n\n  const force = true;\n\n  if (typeof root._bokeh_onload_callbacks === \"undefined\" || force === true) {\n    root._bokeh_onload_callbacks = [];\n    root._bokeh_is_loading = undefined;\n  }\n\n  \n\n  \n  if (typeof (root._bokeh_timeout) === \"undefined\" || force === true) {\n    root._bokeh_timeout = Date.now() + 5000;\n    root._bokeh_failed_load = false;\n  }\n\n  const NB_LOAD_WARNING = {'data': {'text/html':\n     \"<div style='background-color: #fdd'>\\n\"+\n     \"<p>\\n\"+\n     \"BokehJS does not appear to have successfully loaded. If loading BokehJS from CDN, this \\n\"+\n     \"may be due to a slow or bad network connection. Possible fixes:\\n\"+\n     \"</p>\\n\"+\n     \"<ul>\\n\"+\n     \"<li>re-rerun `output_notebook()` to attempt to load from CDN again, or</li>\\n\"+\n     \"<li>use INLINE resources instead, as so:</li>\\n\"+\n     \"</ul>\\n\"+\n     \"<code>\\n\"+\n     \"from bokeh.resources import INLINE\\n\"+\n     \"output_notebook(resources=INLINE)\\n\"+\n     \"</code>\\n\"+\n     \"</div>\"}};\n\n  function display_loaded() {\n    const el = document.getElementById(\"1002\");\n    if (el != null) {\n      el.textContent = \"BokehJS is loading...\";\n    }\n    if (root.Bokeh !== undefined) {\n      if (el != null) {\n        el.textContent = \"BokehJS \" + root.Bokeh.version + \" successfully loaded.\";\n      }\n    } else if (Date.now() < root._bokeh_timeout) {\n      setTimeout(display_loaded, 100)\n    }\n  }\n\n\n  function run_callbacks() {\n    try {\n      root._bokeh_onload_callbacks.forEach(function(callback) {\n        if (callback != null)\n          callback();\n      });\n    } finally {\n      delete root._bokeh_onload_callbacks\n    }\n    console.debug(\"Bokeh: all callbacks have finished\");\n  }\n\n  function load_libs(css_urls, js_urls, callback) {\n    if (css_urls == null) css_urls = [];\n    if (js_urls == null) js_urls = [];\n\n    root._bokeh_onload_callbacks.push(callback);\n    if (root._bokeh_is_loading > 0) {\n      console.debug(\"Bokeh: BokehJS is being loaded, scheduling callback at\", now());\n      return null;\n    }\n    if (js_urls == null || js_urls.length === 0) {\n      run_callbacks();\n      return null;\n    }\n    console.debug(\"Bokeh: BokehJS not loaded, scheduling load and callback at\", now());\n    root._bokeh_is_loading = css_urls.length + js_urls.length;\n\n    function on_load() {\n      root._bokeh_is_loading--;\n      if (root._bokeh_is_loading === 0) {\n        console.debug(\"Bokeh: all BokehJS libraries/stylesheets loaded\");\n        run_callbacks()\n      }\n    }\n\n    function on_error(url) {\n      console.error(\"failed to load \" + url);\n    }\n\n    for (let i = 0; i < css_urls.length; i++) {\n      const url = css_urls[i];\n      const element = document.createElement(\"link\");\n      element.onload = on_load;\n      element.onerror = on_error.bind(null, url);\n      element.rel = \"stylesheet\";\n      element.type = \"text/css\";\n      element.href = url;\n      console.debug(\"Bokeh: injecting link tag for BokehJS stylesheet: \", url);\n      document.body.appendChild(element);\n    }\n\n    for (let i = 0; i < js_urls.length; i++) {\n      const url = js_urls[i];\n      const element = document.createElement('script');\n      element.onload = on_load;\n      element.onerror = on_error.bind(null, url);\n      element.async = false;\n      element.src = url;\n      console.debug(\"Bokeh: injecting script tag for BokehJS library: \", url);\n      document.head.appendChild(element);\n    }\n  };\n\n  function inject_raw_css(css) {\n    const element = document.createElement(\"style\");\n    element.appendChild(document.createTextNode(css));\n    document.body.appendChild(element);\n  }\n\n  \n  const js_urls = [\"https://cdn.bokeh.org/bokeh/release/bokeh-2.4.2.min.js\", \"https://cdn.bokeh.org/bokeh/release/bokeh-gl-2.4.2.min.js\", \"https://cdn.bokeh.org/bokeh/release/bokeh-widgets-2.4.2.min.js\", \"https://cdn.bokeh.org/bokeh/release/bokeh-tables-2.4.2.min.js\", \"https://cdn.bokeh.org/bokeh/release/bokeh-mathjax-2.4.2.min.js\"];\n  const css_urls = [];\n  \n\n  const inline_js = [\n    function(Bokeh) {\n      Bokeh.set_log_level(\"info\");\n    },\n    function(Bokeh) {\n    \n    \n    }\n  ];\n\n  function run_inline_js() {\n    \n    if (root.Bokeh !== undefined || force === true) {\n      \n    for (let i = 0; i < inline_js.length; i++) {\n      inline_js[i].call(root, root.Bokeh);\n    }\n    if (force === true) {\n        display_loaded();\n      }} else if (Date.now() < root._bokeh_timeout) {\n      setTimeout(run_inline_js, 100);\n    } else if (!root._bokeh_failed_load) {\n      console.log(\"Bokeh: BokehJS failed to load within specified timeout.\");\n      root._bokeh_failed_load = true;\n    } else if (force !== true) {\n      const cell = $(document.getElementById(\"1002\")).parents('.cell').data().cell;\n      cell.output_area.append_execute_result(NB_LOAD_WARNING)\n    }\n\n  }\n\n  if (root._bokeh_is_loading === 0) {\n    console.debug(\"Bokeh: BokehJS loaded, going straight to plotting\");\n    run_inline_js();\n  } else {\n    load_libs(css_urls, js_urls, function() {\n      console.debug(\"Bokeh: BokehJS plotting callback run at\", now());\n      run_inline_js();\n    });\n  }\n}(window));"
          },
          "metadata": {},
          "output_type": "display_data"
        }
      ],
      "source": [
        "from bokeh.io import output_notebook, show\n",
        "from bokeh.plotting import figure\n",
        "\n",
        "output_notebook()"
      ]
    },
    {
      "cell_type": "code",
      "execution_count": null,
      "id": "1bbfe6c5",
      "metadata": {
        "id": "1bbfe6c5"
      },
      "outputs": [],
      "source": [
        "import pandas as pd\n",
        "import numpy as np\n",
        "import matplotlib.pyplot as plt\n",
        "from bokeh.models import ColumnDataSource\n",
        "%matplotlib inline\n",
        "\n",
        "imdb = pd.read_csv('movies.csv')"
      ]
    },
    {
      "cell_type": "markdown",
      "id": "1ada9777",
      "metadata": {
        "id": "1ada9777"
      },
      "source": [
        "DATA CLEANUP"
      ]
    },
    {
      "cell_type": "code",
      "execution_count": null,
      "id": "8546b4fc",
      "metadata": {
        "id": "8546b4fc"
      },
      "outputs": [],
      "source": [
        "#Set objects to strings\n",
        "imdb = imdb.astype({'name': 'string', \n",
        "                    'rating':'string',\n",
        "                    'genre':'string', \n",
        "                    'released':'string',\n",
        "                    'director':'string',\n",
        "                    'writer':'string',\n",
        "                    'star':'string',\n",
        "                    'country':'string',\n",
        "                    'company':'string',})\n",
        "\n",
        "\n",
        "#Separate release date information\n",
        "imdb[['released_date','released_country']] = imdb['released'].str.slice(stop=-1).str.split(\" \\(\",n=1,expand = True)\n",
        "imdb.drop('released',axis=1)\n",
        "imdb['released_date'] = pd.to_datetime(imdb['released_date'])#,format=\"%B %d, %Y\")\n",
        "\n",
        "#Drop NaN values \n",
        "imdb = imdb.dropna(subset=['gross', 'budget', 'score', 'released_date'])\n",
        "\n",
        "#Turn into datetime\n",
        "imdb['released_month'] = imdb['released_date'].dt.month\n",
        "imdb['released_day'] = imdb['released_date'].dt.day\n",
        "imdb['released_year'] = imdb['released_date'].dt.year\n",
        "\n",
        "#Add decade column\n",
        "def decade(i):\n",
        "    if (i == 1980) or (i <=1989):\n",
        "        return 1980\n",
        "    elif (i == 1990) or (i <=1999):\n",
        "        return 1990\n",
        "    elif (i == 2000) or (i <=2009):\n",
        "        return 2000\n",
        "    elif (i == 2010) or (i <=2019):\n",
        "        return 2010\n",
        "    elif (i == 2020) or (i <=2029):\n",
        "        return 2020\n",
        "    \n",
        "imdb['decade'] = imdb['year'].apply(lambda x: decade(x))\n",
        "\n",
        "#Add profit and profit margin columns\n",
        "imdb['net'] = imdb['gross'] - imdb['budget']\n"
      ]
    },
    {
      "cell_type": "markdown",
      "id": "f16dd545",
      "metadata": {
        "id": "f16dd545"
      },
      "source": [
        "GET MOVIE RANKING (according to Audience Score)"
      ]
    },
    {
      "cell_type": "code",
      "execution_count": null,
      "id": "39654f6a",
      "metadata": {
        "id": "39654f6a",
        "outputId": "959a7ea1-7277-4400-c9f5-6799832acfe4"
      },
      "outputs": [
        {
          "name": "stdout",
          "output_type": "stream",
          "text": [
            "Name of Movie: Avatarr\n",
            "Name of Movie: Avatar\n",
            "Avatar  ranks (according to Audience Score) at:  247.0\n"
          ]
        }
      ],
      "source": [
        "movie_scores = imdb[['name','score']]\n",
        "movie_scores = movie_scores.sort_values('score',ascending=False)\n",
        "movie_scores['rank']=movie_scores['score'].rank(method='min',ascending=False)\n",
        "movies = list(movie_scores['name'])\n",
        "\n",
        "while True:\n",
        "    x = str(input(\"Name of Movie: \"))\n",
        "    if x not in movies:\n",
        "        continue\n",
        "    else:\n",
        "        rank = movie_scores[movie_scores['name']==x].get(\"rank\").mean()\n",
        "        print(x, \" ranks (according to Audience Score) at: \",rank)\n",
        "        break\n",
        "        \n",
        "        Avatar"
      ]
    },
    {
      "cell_type": "markdown",
      "id": "6449b16d",
      "metadata": {
        "id": "6449b16d"
      },
      "source": [
        "GET MOVIE RANKING (according to Gross Revenue)"
      ]
    },
    {
      "cell_type": "code",
      "execution_count": null,
      "id": "316b7fbf",
      "metadata": {
        "id": "316b7fbf",
        "outputId": "8221fb32-cc6d-4572-9e03-f60ce0407cf7"
      },
      "outputs": [
        {
          "name": "stdout",
          "output_type": "stream",
          "text": [
            "Name of Movie: Avatar\n",
            "Avatar  ranks (according to revenue) at:  1.0\n"
          ]
        }
      ],
      "source": [
        "movie_revenues = imdb[['name','gross']]\n",
        "movie_revenues = movie_revenues.sort_values('gross',ascending=False)\n",
        "movie_revenues['rank']=movie_revenues['gross'].rank(method='min',ascending=False)\n",
        "  \n",
        "while True:\n",
        "    x = str(input(\"Name of Movie: \"))\n",
        "    if x not in movies:\n",
        "        continue\n",
        "    else:\n",
        "        rank = movie_revenues[movie_revenues['name']==x].get(\"rank\").mean()\n",
        "        print(x, \" ranks (according to revenue) at: \",rank)\n",
        "        break"
      ]
    },
    {
      "cell_type": "markdown",
      "id": "44194987",
      "metadata": {
        "id": "44194987"
      },
      "source": [
        "AGGREGATE PROFITS AND REVENUE/SPENDING DISITRIBUTION BY GENRE "
      ]
    },
    {
      "cell_type": "code",
      "execution_count": null,
      "id": "40a2d8e3",
      "metadata": {
        "id": "40a2d8e3",
        "outputId": "ffb4aed1-5221-4b6f-da2d-9aefa7ab3f8e"
      },
      "outputs": [
        {
          "data": {
            "text/html": [
              "\n",
              "\n",
              "\n",
              "\n",
              "\n",
              "\n",
              "  <div class=\"bk-root\" id=\"7f979d21-9a6e-4391-8b0a-3c43523355a2\" data-root-id=\"1004\"></div>\n"
            ]
          },
          "metadata": {},
          "output_type": "display_data"
        },
        {
          "data": {
            "application/javascript": [
              "(function(root) {\n",
              "  function embed_document(root) {\n",
              "    \n",
              "  const docs_json = {\"e2c96d72-f6eb-489e-ad47-51f6c8d4948b\":{\"defs\":[],\"roots\":{\"references\":[{\"attributes\":{\"below\":[{\"id\":\"1015\"}],\"center\":[{\"id\":\"1018\"},{\"id\":\"1021\"},{\"id\":\"1056\"}],\"height\":400,\"left\":[{\"id\":\"1019\"}],\"outline_line_color\":null,\"renderers\":[{\"id\":\"1044\"},{\"id\":\"1064\"}],\"title\":{\"id\":\"1005\"},\"toolbar\":{\"id\":\"1030\"},\"toolbar_location\":null,\"width\":900,\"x_range\":{\"id\":\"1007\"},\"x_scale\":{\"id\":\"1011\"},\"y_range\":{\"id\":\"1009\"},\"y_scale\":{\"id\":\"1013\"}},\"id\":\"1004\",\"subtype\":\"Figure\",\"type\":\"Plot\"},{\"attributes\":{},\"id\":\"1022\",\"type\":\"PanTool\"},{\"attributes\":{\"source\":{\"id\":\"1003\"}},\"id\":\"1045\",\"type\":\"CDSView\"},{\"attributes\":{\"source\":{\"id\":\"1003\"}},\"id\":\"1065\",\"type\":\"CDSView\"},{\"attributes\":{\"overlay\":{\"id\":\"1028\"}},\"id\":\"1024\",\"type\":\"BoxZoomTool\"},{\"attributes\":{},\"id\":\"1052\",\"type\":\"AllLabels\"},{\"attributes\":{\"coordinates\":null,\"group\":null,\"text\":\"Mean revenue/budget (in Billions), by genre\"},\"id\":\"1005\",\"type\":\"Title\"},{\"attributes\":{\"coordinates\":null,\"group\":null,\"items\":[{\"id\":\"1057\"},{\"id\":\"1076\"}]},\"id\":\"1056\",\"type\":\"Legend\"},{\"attributes\":{},\"id\":\"1025\",\"type\":\"SaveTool\"},{\"attributes\":{\"label\":{\"value\":\"Budget\"},\"renderers\":[{\"id\":\"1064\"}]},\"id\":\"1076\",\"type\":\"LegendItem\"},{\"attributes\":{},\"id\":\"1023\",\"type\":\"WheelZoomTool\"},{\"attributes\":{\"coordinates\":null,\"formatter\":{\"id\":\"1051\"},\"group\":null,\"major_label_policy\":{\"id\":\"1052\"},\"minor_tick_line_color\":null,\"ticker\":{\"id\":\"1016\"}},\"id\":\"1015\",\"type\":\"LinearAxis\"},{\"attributes\":{\"axis\":{\"id\":\"1019\"},\"coordinates\":null,\"dimension\":1,\"grid_line_color\":null,\"group\":null,\"ticker\":null},\"id\":\"1021\",\"type\":\"Grid\"},{\"attributes\":{},\"id\":\"1026\",\"type\":\"ResetTool\"},{\"attributes\":{\"callback\":null,\"tooltips\":[[\"Genre\",\"@genre\"],[\"Number of Movies\",\"@num_movies\"],[\"Net Profit (Billions)\",\"@net\"]]},\"id\":\"1029\",\"type\":\"HoverTool\"},{\"attributes\":{},\"id\":\"1020\",\"type\":\"CategoricalTicker\"},{\"attributes\":{\"label\":{\"value\":\"Revenues\"},\"renderers\":[{\"id\":\"1044\"}]},\"id\":\"1057\",\"type\":\"LegendItem\"},{\"attributes\":{\"factors\":[\"Action\",\"Adventure\",\"Animation\",\"Biography\",\"Comedy\",\"Crime\",\"Drama\",\"Family\",\"Fantasy\",\"Horror\",\"Mystery\",\"Romance\",\"Sci-Fi\",\"Thriller\",\"Western\"],\"range_padding\":0.1},\"id\":\"1009\",\"type\":\"FactorRange\"},{\"attributes\":{\"axis\":{\"id\":\"1015\"},\"coordinates\":null,\"group\":null,\"ticker\":null},\"id\":\"1018\",\"type\":\"Grid\"},{\"attributes\":{},\"id\":\"1013\",\"type\":\"CategoricalScale\"},{\"attributes\":{},\"id\":\"1011\",\"type\":\"LinearScale\"},{\"attributes\":{},\"id\":\"1053\",\"type\":\"UnionRenderers\"},{\"attributes\":{},\"id\":\"1027\",\"type\":\"HelpTool\"},{\"attributes\":{},\"id\":\"1054\",\"type\":\"Selection\"},{\"attributes\":{},\"id\":\"1016\",\"type\":\"BasicTicker\"},{\"attributes\":{\"coordinates\":null,\"formatter\":{\"id\":\"1048\"},\"group\":null,\"major_label_policy\":{\"id\":\"1049\"},\"minor_tick_line_color\":null,\"ticker\":{\"id\":\"1020\"}},\"id\":\"1019\",\"type\":\"CategoricalAxis\"},{\"attributes\":{\"end\":250,\"start\":-100},\"id\":\"1007\",\"type\":\"Range1d\"},{\"attributes\":{\"fields\":[\"gross\"]},\"id\":\"1039\",\"type\":\"Stack\"},{\"attributes\":{\"tools\":[{\"id\":\"1022\"},{\"id\":\"1023\"},{\"id\":\"1024\"},{\"id\":\"1025\"},{\"id\":\"1026\"},{\"id\":\"1027\"},{\"id\":\"1029\"}]},\"id\":\"1030\",\"type\":\"Toolbar\"},{\"attributes\":{\"coordinates\":null,\"data_source\":{\"id\":\"1003\"},\"glyph\":{\"id\":\"1061\"},\"group\":null,\"hover_glyph\":null,\"muted_glyph\":{\"id\":\"1063\"},\"name\":\"Budget\",\"nonselection_glyph\":{\"id\":\"1062\"},\"view\":{\"id\":\"1065\"}},\"id\":\"1064\",\"type\":\"GlyphRenderer\"},{\"attributes\":{\"fill_color\":{\"value\":\"green\"},\"hatch_color\":{\"value\":\"green\"},\"height\":{\"value\":0.9},\"left\":{\"expr\":{\"id\":\"1038\"}},\"line_color\":{\"value\":\"green\"},\"right\":{\"expr\":{\"id\":\"1039\"}},\"y\":{\"field\":\"genre\"}},\"id\":\"1041\",\"type\":\"HBar\"},{\"attributes\":{\"fill_color\":{\"value\":\"orange\"},\"hatch_color\":{\"value\":\"orange\"},\"height\":{\"value\":0.9},\"left\":{\"expr\":{\"id\":\"1058\"}},\"line_color\":{\"value\":\"orange\"},\"right\":{\"expr\":{\"id\":\"1059\"}},\"y\":{\"field\":\"genre\"}},\"id\":\"1061\",\"type\":\"HBar\"},{\"attributes\":{\"fields\":[\"Budget\"]},\"id\":\"1059\",\"type\":\"Stack\"},{\"attributes\":{\"fill_alpha\":{\"value\":0.1},\"fill_color\":{\"value\":\"orange\"},\"hatch_alpha\":{\"value\":0.1},\"hatch_color\":{\"value\":\"orange\"},\"height\":{\"value\":0.9},\"left\":{\"expr\":{\"id\":\"1058\"}},\"line_alpha\":{\"value\":0.1},\"line_color\":{\"value\":\"orange\"},\"right\":{\"expr\":{\"id\":\"1059\"}},\"y\":{\"field\":\"genre\"}},\"id\":\"1062\",\"type\":\"HBar\"},{\"attributes\":{},\"id\":\"1048\",\"type\":\"CategoricalTickFormatter\"},{\"attributes\":{\"fill_alpha\":{\"value\":0.2},\"fill_color\":{\"value\":\"green\"},\"hatch_alpha\":{\"value\":0.2},\"hatch_color\":{\"value\":\"green\"},\"height\":{\"value\":0.9},\"left\":{\"expr\":{\"id\":\"1038\"}},\"line_alpha\":{\"value\":0.2},\"line_color\":{\"value\":\"green\"},\"right\":{\"expr\":{\"id\":\"1039\"}},\"y\":{\"field\":\"genre\"}},\"id\":\"1043\",\"type\":\"HBar\"},{\"attributes\":{\"fields\":[]},\"id\":\"1038\",\"type\":\"Stack\"},{\"attributes\":{\"data\":{\"Budget\":{\"__ndarray__\":\"7CnU+4+xVMCR8pNqnw4uwAZkr3d/JDXAfzSKT3umH8AwmCJtYQ5BwGdnC+eeDiLAoq95hSAnNMCTGARWDi3Kv6hXyjLEsea/HZPF/UcGC8Bv6r+rPlfhv9qs+lxtxb6/jZduEoPAwr+Ens2qz9W2vxsv3SQGgZW/\",\"dtype\":\"float64\",\"order\":\"little\",\"shape\":[15]},\"budget\":{\"__ndarray__\":\"gIylQvt0cEH8I6lB2jP9QAtzCEL3dBBBBDmhQXNoUT4ijjU/QDJYQPW5Cj9rK/Y9GQQWPn2utj0xCKw8\",\"dtype\":\"float32\",\"order\":\"little\",\"shape\":[15]},\"genre\":[\"Action\",\"Adventure\",\"Animation\",\"Biography\",\"Comedy\",\"Crime\",\"Drama\",\"Family\",\"Fantasy\",\"Horror\",\"Mystery\",\"Romance\",\"Sci-Fi\",\"Thriller\",\"Western\"],\"gross\":{\"__ndarray__\":\"gcptQ5pQLkLSv5tC38WYQZYHsUJoQ6BBTl1RQt3BBEC2UtM/MTFkQQlDAEDs5ys+kxNnPgpHmD5UDaQ8\",\"dtype\":\"float32\",\"order\":\"little\",\"shape\":[15]},\"net\":{\"__ndarray__\":\"QQQbQ7Zm5EGl7WJC0fEyQSGcWULYETBBzMAAQq1W7z9LF3E/oSQuQRcpuz/cSEM99h6iPdY2VT6vW3+6\",\"dtype\":\"float32\",\"order\":\"little\",\"shape\":[15]},\"num_movies\":[1417,327,278,312,1496,400,869,4,42,254,17,5,6,7,2]},\"selected\":{\"id\":\"1054\"},\"selection_policy\":{\"id\":\"1053\"}},\"id\":\"1003\",\"type\":\"ColumnDataSource\"},{\"attributes\":{\"fields\":[]},\"id\":\"1058\",\"type\":\"Stack\"},{\"attributes\":{\"fill_alpha\":{\"value\":0.1},\"fill_color\":{\"value\":\"green\"},\"hatch_alpha\":{\"value\":0.1},\"hatch_color\":{\"value\":\"green\"},\"height\":{\"value\":0.9},\"left\":{\"expr\":{\"id\":\"1038\"}},\"line_alpha\":{\"value\":0.1},\"line_color\":{\"value\":\"green\"},\"right\":{\"expr\":{\"id\":\"1039\"}},\"y\":{\"field\":\"genre\"}},\"id\":\"1042\",\"type\":\"HBar\"},{\"attributes\":{\"fill_alpha\":{\"value\":0.2},\"fill_color\":{\"value\":\"orange\"},\"hatch_alpha\":{\"value\":0.2},\"hatch_color\":{\"value\":\"orange\"},\"height\":{\"value\":0.9},\"left\":{\"expr\":{\"id\":\"1058\"}},\"line_alpha\":{\"value\":0.2},\"line_color\":{\"value\":\"orange\"},\"right\":{\"expr\":{\"id\":\"1059\"}},\"y\":{\"field\":\"genre\"}},\"id\":\"1063\",\"type\":\"HBar\"},{\"attributes\":{},\"id\":\"1049\",\"type\":\"AllLabels\"},{\"attributes\":{\"bottom_units\":\"screen\",\"coordinates\":null,\"fill_alpha\":0.5,\"fill_color\":\"lightgrey\",\"group\":null,\"left_units\":\"screen\",\"level\":\"overlay\",\"line_alpha\":1.0,\"line_color\":\"black\",\"line_dash\":[4,4],\"line_width\":2,\"right_units\":\"screen\",\"syncable\":false,\"top_units\":\"screen\"},\"id\":\"1028\",\"type\":\"BoxAnnotation\"},{\"attributes\":{\"coordinates\":null,\"data_source\":{\"id\":\"1003\"},\"glyph\":{\"id\":\"1041\"},\"group\":null,\"hover_glyph\":null,\"muted_glyph\":{\"id\":\"1043\"},\"name\":\"gross\",\"nonselection_glyph\":{\"id\":\"1042\"},\"view\":{\"id\":\"1045\"}},\"id\":\"1044\",\"type\":\"GlyphRenderer\"},{\"attributes\":{},\"id\":\"1051\",\"type\":\"BasicTickFormatter\"}],\"root_ids\":[\"1004\"]},\"title\":\"Bokeh Application\",\"version\":\"2.4.2\"}};\n",
              "  const render_items = [{\"docid\":\"e2c96d72-f6eb-489e-ad47-51f6c8d4948b\",\"root_ids\":[\"1004\"],\"roots\":{\"1004\":\"7f979d21-9a6e-4391-8b0a-3c43523355a2\"}}];\n",
              "  root.Bokeh.embed.embed_items_notebook(docs_json, render_items);\n",
              "\n",
              "  }\n",
              "  if (root.Bokeh !== undefined) {\n",
              "    embed_document(root);\n",
              "  } else {\n",
              "    let attempts = 0;\n",
              "    const timer = setInterval(function(root) {\n",
              "      if (root.Bokeh !== undefined) {\n",
              "        clearInterval(timer);\n",
              "        embed_document(root);\n",
              "      } else {\n",
              "        attempts++;\n",
              "        if (attempts > 100) {\n",
              "          clearInterval(timer);\n",
              "          console.log(\"Bokeh: ERROR: Unable to run BokehJS code because BokehJS library is missing\");\n",
              "        }\n",
              "      }\n",
              "    }, 10, root)\n",
              "  }\n",
              "})(window);"
            ],
            "application/vnd.bokehjs_exec.v0+json": ""
          },
          "metadata": {
            "application/vnd.bokehjs_exec.v0+json": {
              "id": "1004"
            }
          },
          "output_type": "display_data"
        }
      ],
      "source": [
        "genres = imdb.groupby('genre')\n",
        "genres_means = (genres[['gross','budget','net']].sum()/1000000000).astype('float32')\n",
        "genres_df = pd.DataFrame(genres_means)\n",
        "genres_df['num_movies'] = genres.size()\n",
        "genres_df['Budget'] = genres['budget'].sum()/-1000000000\n",
        "\n",
        "source=ColumnDataSource(genres_df)\n",
        "\n",
        "b = [\"Budget\"]\n",
        "g = [\"gross\"]\n",
        "\n",
        "tooltips = [(\"Genre\", \"@genre\"),\n",
        "            (\"Number of Movies\", \"@num_movies\"),\n",
        "            (\"Net Profit (Billions)\", \"@net\")]\n",
        "\n",
        "p = figure(y_range=source.data['genre'], height=400, width=900, x_range=(-100, 250), title=\"Mean revenue/budget (in Billions), by genre\",\n",
        "           toolbar_location=None, tooltips=tooltips)\n",
        "\n",
        "p.hbar_stack(g, y='genre', height=0.9, color=\"green\", source=source,legend_label=\"Revenues\")\n",
        "\n",
        "p.hbar_stack(b, y='genre', height=0.9, color=\"orange\", source=source,legend_label=\"Budget\")\n",
        "\n",
        "p.y_range.range_padding = 0.1\n",
        "p.ygrid.grid_line_color = None\n",
        "p.legend.location = \"top_right\"\n",
        "p.axis.minor_tick_line_color = None\n",
        "p.outline_line_color = None\n",
        "\n",
        "show(p)"
      ]
    },
    {
      "cell_type": "markdown",
      "id": "1a880bb9",
      "metadata": {
        "id": "1a880bb9"
      },
      "source": [
        "TOP 5 DIRECTORS BY REVENUE"
      ]
    },
    {
      "cell_type": "code",
      "execution_count": null,
      "id": "a2f948d7",
      "metadata": {
        "id": "a2f948d7",
        "outputId": "985b05c9-c86d-4a9e-b315-04d1abb8acb8"
      },
      "outputs": [
        {
          "data": {
            "text/html": [
              "\n",
              "\n",
              "\n",
              "\n",
              "\n",
              "\n",
              "  <div class=\"bk-root\" id=\"480590fa-e2d4-48e8-9b61-4b49a299469c\" data-root-id=\"1138\"></div>\n"
            ]
          },
          "metadata": {},
          "output_type": "display_data"
        },
        {
          "data": {
            "application/javascript": [
              "(function(root) {\n",
              "  function embed_document(root) {\n",
              "    \n",
              "  const docs_json = {\"ee4f2783-9e61-48ca-81a5-8247d13b9141\":{\"defs\":[],\"roots\":{\"references\":[{\"attributes\":{\"below\":[{\"id\":\"1149\"}],\"center\":[{\"id\":\"1151\"},{\"id\":\"1155\"}],\"height\":400,\"left\":[{\"id\":\"1152\"}],\"renderers\":[{\"id\":\"1177\"}],\"title\":{\"id\":\"1139\"},\"toolbar\":{\"id\":\"1164\"},\"x_range\":{\"id\":\"1141\"},\"x_scale\":{\"id\":\"1145\"},\"y_range\":{\"id\":\"1143\"},\"y_scale\":{\"id\":\"1147\"}},\"id\":\"1138\",\"subtype\":\"Figure\",\"type\":\"Plot\"},{\"attributes\":{},\"id\":\"1156\",\"type\":\"PanTool\"},{\"attributes\":{\"overlay\":{\"id\":\"1162\"}},\"id\":\"1158\",\"type\":\"BoxZoomTool\"},{\"attributes\":{},\"id\":\"1191\",\"type\":\"BasicTickFormatter\"},{\"attributes\":{},\"id\":\"1157\",\"type\":\"WheelZoomTool\"},{\"attributes\":{},\"id\":\"1192\",\"type\":\"AllLabels\"},{\"attributes\":{\"tools\":[{\"id\":\"1156\"},{\"id\":\"1157\"},{\"id\":\"1158\"},{\"id\":\"1159\"},{\"id\":\"1160\"},{\"id\":\"1161\"},{\"id\":\"1163\"}]},\"id\":\"1164\",\"type\":\"Toolbar\"},{\"attributes\":{},\"id\":\"1160\",\"type\":\"ResetTool\"},{\"attributes\":{\"axis_label\":\"Director\",\"coordinates\":null,\"formatter\":{\"id\":\"1194\"},\"group\":null,\"major_label_policy\":{\"id\":\"1195\"},\"ticker\":{\"id\":\"1150\"}},\"id\":\"1149\",\"type\":\"CategoricalAxis\"},{\"attributes\":{\"coordinates\":null,\"group\":null,\"text\":\"Top Directors according to Mean Revenue\"},\"id\":\"1139\",\"type\":\"Title\"},{\"attributes\":{},\"id\":\"1194\",\"type\":\"CategoricalTickFormatter\"},{\"attributes\":{},\"id\":\"1150\",\"type\":\"CategoricalTicker\"},{\"attributes\":{},\"id\":\"1195\",\"type\":\"AllLabels\"},{\"attributes\":{\"fill_alpha\":{\"value\":0.1},\"fill_color\":{\"value\":\"cyan\"},\"hatch_alpha\":{\"value\":0.1},\"hatch_color\":{\"value\":\"cyan\"},\"line_alpha\":{\"value\":0.1},\"top\":{\"field\":\"gross\"},\"width\":{\"value\":0.5},\"x\":{\"field\":\"director\"}},\"id\":\"1174\",\"type\":\"VBar\"},{\"attributes\":{\"axis_label\":\"Mean Revenue (Millions of USD)\",\"coordinates\":null,\"formatter\":{\"id\":\"1191\"},\"group\":null,\"major_label_policy\":{\"id\":\"1192\"},\"ticker\":{\"id\":\"1153\"}},\"id\":\"1152\",\"type\":\"LinearAxis\"},{\"attributes\":{\"callback\":null,\"tooltips\":[[\"Average Revenue\",\"@gross\"],[\"Number of movies\",\"@num_movies\"]]},\"id\":\"1163\",\"type\":\"HoverTool\"},{\"attributes\":{},\"id\":\"1147\",\"type\":\"LinearScale\"},{\"attributes\":{\"factors\":[\"Anthony Russo\",\"Kyle Balda\",\"Josh Cooley\",\"Chris Buck\",\"Joss Whedon\"]},\"id\":\"1141\",\"type\":\"FactorRange\"},{\"attributes\":{\"axis\":{\"id\":\"1149\"},\"coordinates\":null,\"grid_line_color\":null,\"group\":null,\"ticker\":null},\"id\":\"1151\",\"type\":\"Grid\"},{\"attributes\":{\"source\":{\"id\":\"1137\"}},\"id\":\"1178\",\"type\":\"CDSView\"},{\"attributes\":{\"fill_color\":{\"value\":\"cyan\"},\"hatch_color\":{\"value\":\"cyan\"},\"top\":{\"field\":\"gross\"},\"width\":{\"value\":0.5},\"x\":{\"field\":\"director\"}},\"id\":\"1173\",\"type\":\"VBar\"},{\"attributes\":{\"fill_color\":{\"value\":\"magenta\"},\"hatch_color\":{\"value\":\"cyan\"},\"top\":{\"field\":\"gross\"},\"width\":{\"value\":0.5},\"x\":{\"field\":\"director\"}},\"id\":\"1175\",\"type\":\"VBar\"},{\"attributes\":{},\"id\":\"1196\",\"type\":\"UnionRenderers\"},{\"attributes\":{},\"id\":\"1145\",\"type\":\"CategoricalScale\"},{\"attributes\":{\"bottom_units\":\"screen\",\"coordinates\":null,\"fill_alpha\":0.5,\"fill_color\":\"lightgrey\",\"group\":null,\"left_units\":\"screen\",\"level\":\"overlay\",\"line_alpha\":1.0,\"line_color\":\"black\",\"line_dash\":[4,4],\"line_width\":2,\"right_units\":\"screen\",\"syncable\":false,\"top_units\":\"screen\"},\"id\":\"1162\",\"type\":\"BoxAnnotation\"},{\"attributes\":{},\"id\":\"1197\",\"type\":\"Selection\"},{\"attributes\":{\"data\":{\"director\":[\"Anthony Russo\",\"Kyle Balda\",\"Josh Cooley\",\"Chris Buck\",\"Joss Whedon\"],\"gross\":{\"__ndarray__\":\"++AhMWZjlUCUEoJVfSSRQOz4LxCUxZBAC6z2w6KPkECKrDWU2tqOQA==\",\"dtype\":\"float64\",\"order\":\"little\",\"shape\":[5]},\"num_movies\":[5,2,1,3,3]},\"selected\":{\"id\":\"1197\"},\"selection_policy\":{\"id\":\"1196\"}},\"id\":\"1137\",\"type\":\"ColumnDataSource\"},{\"attributes\":{},\"id\":\"1159\",\"type\":\"SaveTool\"},{\"attributes\":{},\"id\":\"1143\",\"type\":\"DataRange1d\"},{\"attributes\":{\"coordinates\":null,\"data_source\":{\"id\":\"1137\"},\"glyph\":{\"id\":\"1173\"},\"group\":null,\"hover_glyph\":{\"id\":\"1175\"},\"muted_glyph\":{\"id\":\"1176\"},\"nonselection_glyph\":{\"id\":\"1174\"},\"view\":{\"id\":\"1178\"}},\"id\":\"1177\",\"type\":\"GlyphRenderer\"},{\"attributes\":{},\"id\":\"1161\",\"type\":\"HelpTool\"},{\"attributes\":{},\"id\":\"1153\",\"type\":\"BasicTicker\"},{\"attributes\":{\"axis\":{\"id\":\"1152\"},\"coordinates\":null,\"dimension\":1,\"group\":null,\"ticker\":null},\"id\":\"1155\",\"type\":\"Grid\"},{\"attributes\":{\"fill_alpha\":{\"value\":0.2},\"fill_color\":{\"value\":\"cyan\"},\"hatch_alpha\":{\"value\":0.2},\"hatch_color\":{\"value\":\"cyan\"},\"line_alpha\":{\"value\":0.2},\"top\":{\"field\":\"gross\"},\"width\":{\"value\":0.5},\"x\":{\"field\":\"director\"}},\"id\":\"1176\",\"type\":\"VBar\"}],\"root_ids\":[\"1138\"]},\"title\":\"Bokeh Application\",\"version\":\"2.4.2\"}};\n",
              "  const render_items = [{\"docid\":\"ee4f2783-9e61-48ca-81a5-8247d13b9141\",\"root_ids\":[\"1138\"],\"roots\":{\"1138\":\"480590fa-e2d4-48e8-9b61-4b49a299469c\"}}];\n",
              "  root.Bokeh.embed.embed_items_notebook(docs_json, render_items);\n",
              "\n",
              "  }\n",
              "  if (root.Bokeh !== undefined) {\n",
              "    embed_document(root);\n",
              "  } else {\n",
              "    let attempts = 0;\n",
              "    const timer = setInterval(function(root) {\n",
              "      if (root.Bokeh !== undefined) {\n",
              "        clearInterval(timer);\n",
              "        embed_document(root);\n",
              "      } else {\n",
              "        attempts++;\n",
              "        if (attempts > 100) {\n",
              "          clearInterval(timer);\n",
              "          console.log(\"Bokeh: ERROR: Unable to run BokehJS code because BokehJS library is missing\");\n",
              "        }\n",
              "      }\n",
              "    }, 10, root)\n",
              "  }\n",
              "})(window);"
            ],
            "application/vnd.bokehjs_exec.v0+json": ""
          },
          "metadata": {
            "application/vnd.bokehjs_exec.v0+json": {
              "id": "1138"
            }
          },
          "output_type": "display_data"
        }
      ],
      "source": [
        "popular_directors = imdb.groupby('director')['gross'].mean()/1000000\n",
        "popular_directors_df = pd.DataFrame(popular_directors.sort_values(ascending=False))\n",
        "popular_directors_df['num_movies'] = imdb.groupby('director')['name'].count()\n",
        "#popular_directors_df['director'] = popular_directors_df.index\n",
        "#popular_directors['Christopher Nolan']\n",
        "top_5 = popular_directors_df[0:5]\n",
        "#top_5_director_movies = director_movies.loc[['Roberto Benigni','Tony Kaye','Bob Persichetti','Nadine Labaki','Sergio Leone']]\n",
        "#top_5_joint = top_5.join(top_5_director_movies)\n",
        "\n",
        "source = ColumnDataSource(top_5)\n",
        "\n",
        "tooltips = [(\"Average Revenue\", \"@gross\"),\n",
        "            (\"Number of movies\", \"@num_movies\")]#,\n",
        "           #(\"Movie Name\", \"@name\")]\n",
        "\n",
        "p = figure(x_range=source.data['director'], plot_height=400, \n",
        "           x_axis_label = \"Director\",\n",
        "           y_axis_label = \"Mean Revenue (Millions of USD)\",\n",
        "           title=\"Top Directors according to Mean Revenue\",tooltips=tooltips)\n",
        "p.vbar(x='director', top='gross' , width=0.5, color = \"cyan\", line_color='black',hover_fill_color = 'magenta', source=source)\n",
        "\n",
        "p.xgrid.grid_line_color = None\n",
        "#p.y_range.start = 7.5   \n",
        "#p.y_range.end = 9 \n",
        "\n",
        "show(p)"
      ]
    },
    {
      "cell_type": "markdown",
      "id": "ba0dff8e",
      "metadata": {
        "id": "ba0dff8e"
      },
      "source": [
        "REVENUE & BUDGET OVER TIME"
      ]
    },
    {
      "cell_type": "code",
      "execution_count": null,
      "id": "7772a2b6",
      "metadata": {
        "id": "7772a2b6",
        "outputId": "59edb43a-b2be-49de-d601-e165a7eb213a"
      },
      "outputs": [
        {
          "data": {
            "text/html": [
              "\n",
              "\n",
              "\n",
              "\n",
              "\n",
              "\n",
              "  <div class=\"bk-root\" id=\"9ccc7458-d8f2-4198-a5fd-c4fefa21da8a\" data-root-id=\"1250\"></div>\n"
            ]
          },
          "metadata": {},
          "output_type": "display_data"
        },
        {
          "data": {
            "application/javascript": [
              "(function(root) {\n",
              "  function embed_document(root) {\n",
              "    \n",
              "  const docs_json = {\"046443be-ce06-4bbb-aaab-8c893610956f\":{\"defs\":[],\"roots\":{\"references\":[{\"attributes\":{\"below\":[{\"id\":\"1261\"}],\"center\":[{\"id\":\"1264\"},{\"id\":\"1268\"},{\"id\":\"1303\"}],\"height\":400,\"left\":[{\"id\":\"1265\"}],\"renderers\":[{\"id\":\"1291\"},{\"id\":\"1309\"}],\"title\":{\"id\":\"1251\"},\"toolbar\":{\"id\":\"1276\"},\"width\":400,\"x_range\":{\"id\":\"1253\"},\"x_scale\":{\"id\":\"1257\"},\"y_range\":{\"id\":\"1255\"},\"y_scale\":{\"id\":\"1259\"}},\"id\":\"1250\",\"subtype\":\"Figure\",\"type\":\"Plot\"},{\"attributes\":{\"coordinates\":null,\"group\":null,\"text\":\"Gross Revenue & Budget Over Time\"},\"id\":\"1251\",\"type\":\"Title\"},{\"attributes\":{\"axis\":{\"id\":\"1265\"},\"coordinates\":null,\"dimension\":1,\"group\":null,\"ticker\":null},\"id\":\"1268\",\"type\":\"Grid\"},{\"attributes\":{\"axis\":{\"id\":\"1261\"},\"coordinates\":null,\"group\":null,\"ticker\":null},\"id\":\"1264\",\"type\":\"Grid\"},{\"attributes\":{},\"id\":\"1257\",\"type\":\"LinearScale\"},{\"attributes\":{\"label\":{\"value\":\"Revenue\"},\"renderers\":[{\"id\":\"1309\"}]},\"id\":\"1321\",\"type\":\"LegendItem\"},{\"attributes\":{\"fill_color\":\"yellow\",\"hatch_color\":{\"value\":\"yellow\"},\"x\":{\"field\":\"released_year\"},\"y1\":{\"expr\":{\"id\":\"1285\"}},\"y2\":{\"expr\":{\"id\":\"1286\"}}},\"id\":\"1306\",\"type\":\"VArea\"},{\"attributes\":{},\"id\":\"1295\",\"type\":\"BasicTickFormatter\"},{\"attributes\":{\"fill_alpha\":0.1,\"fill_color\":\"yellow\",\"hatch_alpha\":{\"value\":0.1},\"hatch_color\":{\"value\":\"yellow\"},\"x\":{\"field\":\"released_year\"},\"y1\":{\"expr\":{\"id\":\"1285\"}},\"y2\":{\"expr\":{\"id\":\"1286\"}}},\"id\":\"1307\",\"type\":\"VArea\"},{\"attributes\":{\"overlay\":{\"id\":\"1275\"}},\"id\":\"1271\",\"type\":\"BoxZoomTool\"},{\"attributes\":{\"axis_label\":\"Year Released\",\"coordinates\":null,\"formatter\":{\"id\":\"1298\"},\"group\":null,\"major_label_policy\":{\"id\":\"1299\"},\"ticker\":{\"id\":\"1262\"}},\"id\":\"1261\",\"type\":\"LinearAxis\"},{\"attributes\":{\"data\":{\"budget\":{\"__ndarray__\":\"KH3SJ32yI0CMGv42xWgoQAQ+zja8iShAj7tiGRW7JEC0bNyhro8pQNpApw10EilALgRv9Xi2KUDH/NkK2PspQCcxCKwcOitAj+tbCFawLUBJUyrOPiQyQGP9nOn0rDNAW/UdjIqnNEAFQkwjx8syQKsUCYfSKTlAgN7aQZpNOUDi0Hxdqtg8QAZytAT7tUFAF1HX7tUXQkDgnBGlvXdEQAtSpYxkw0NAAAAAAACQQ0CE5KlTKttCQDiBEziBF0RAarl3m17FRUCTAcLOREZGQFLreVLKRkVAf9Qge0BVRkDgd5P1NfBFQNj4TRhhz0ZA++cNwlnqR0CxQAP5IU5HQOXGYU3wG0hA9kx2nIRzSUATV1/N+3FGQJ1uhF809kZAYOLTKiEbSkDNMf2TwZxLQPuDDJUdskhApM37FJd8S0BwWPuGtf9VQA==\",\"dtype\":\"float64\",\"order\":\"little\",\"shape\":[41]},\"gross\":{\"__ndarray__\":\"abX8D5KhRkCw+7WnR5A/QJno5dRh2UNAqT8eTGECO0B2YAkIeDRBQGTll8H4RkBAY3st6L2hPUCiapBf1w1AQJsGaepZG0JAen0BxDojRkA22nCTW01NQODhdCxT3kdAXRBwS7fLSUBCNb/7RNpIQL5cSyaQJlBAudqa0yDtTUCXzKyEX1xQQL+RAcg+LlVA+ho86PicUUCrZ/eabDNVQF9lDFkIWlNA2eFtT+L4VkBrIb4JewRYQBbX4ZSkDltAEbejFNryW0A/n1egmCJbQGd5JGVXNltAkFVGlqnyXUBw7+xrR0teQDicBA+wtWFA4YdqMG7xYECpe1hjxExhQMTNYAkLAmRAo6xG62btY0AwMK2KsUtjQEM//uyR8GRAusssXXlBZUCoziISep1oQJPhx/o6UGhAhV5/Eh8ebEB3VpSoNjNwQA==\",\"dtype\":\"float64\",\"order\":\"little\",\"shape\":[41]},\"released_year\":[1980,1981,1982,1983,1984,1985,1986,1987,1988,1989,1990,1991,1992,1993,1994,1995,1996,1997,1998,1999,2000,2001,2002,2003,2004,2005,2006,2007,2008,2009,2010,2011,2012,2013,2014,2015,2016,2017,2018,2019,2020]},\"selected\":{\"id\":\"1301\"},\"selection_policy\":{\"id\":\"1300\"}},\"id\":\"1249\",\"type\":\"ColumnDataSource\"},{\"attributes\":{\"fill_alpha\":0.2,\"fill_color\":\"orange\",\"hatch_alpha\":{\"value\":0.2},\"hatch_color\":{\"value\":\"orange\"},\"x\":{\"field\":\"released_year\"},\"y1\":{\"expr\":{\"id\":\"1283\"}},\"y2\":{\"expr\":{\"id\":\"1284\"}}},\"id\":\"1290\",\"type\":\"VArea\"},{\"attributes\":{\"fill_alpha\":0.2,\"fill_color\":\"yellow\",\"hatch_alpha\":{\"value\":0.2},\"hatch_color\":{\"value\":\"yellow\"},\"x\":{\"field\":\"released_year\"},\"y1\":{\"expr\":{\"id\":\"1285\"}},\"y2\":{\"expr\":{\"id\":\"1286\"}}},\"id\":\"1308\",\"type\":\"VArea\"},{\"attributes\":{},\"id\":\"1270\",\"type\":\"WheelZoomTool\"},{\"attributes\":{},\"id\":\"1296\",\"type\":\"AllLabels\"},{\"attributes\":{},\"id\":\"1262\",\"type\":\"BasicTicker\"},{\"attributes\":{},\"id\":\"1298\",\"type\":\"BasicTickFormatter\"},{\"attributes\":{},\"id\":\"1259\",\"type\":\"LinearScale\"},{\"attributes\":{\"coordinates\":null,\"data_source\":{\"id\":\"1249\"},\"glyph\":{\"id\":\"1306\"},\"group\":null,\"hover_glyph\":null,\"muted_glyph\":{\"id\":\"1308\"},\"name\":\"gross\",\"nonselection_glyph\":{\"id\":\"1307\"},\"view\":{\"id\":\"1310\"}},\"id\":\"1309\",\"type\":\"GlyphRenderer\"},{\"attributes\":{},\"id\":\"1299\",\"type\":\"AllLabels\"},{\"attributes\":{\"tools\":[{\"id\":\"1269\"},{\"id\":\"1270\"},{\"id\":\"1271\"},{\"id\":\"1272\"},{\"id\":\"1273\"},{\"id\":\"1274\"}]},\"id\":\"1276\",\"type\":\"Toolbar\"},{\"attributes\":{\"source\":{\"id\":\"1249\"}},\"id\":\"1310\",\"type\":\"CDSView\"},{\"attributes\":{},\"id\":\"1269\",\"type\":\"PanTool\"},{\"attributes\":{},\"id\":\"1253\",\"type\":\"DataRange1d\"},{\"attributes\":{},\"id\":\"1272\",\"type\":\"SaveTool\"},{\"attributes\":{},\"id\":\"1273\",\"type\":\"ResetTool\"},{\"attributes\":{\"fill_alpha\":0.1,\"fill_color\":\"orange\",\"hatch_alpha\":{\"value\":0.1},\"hatch_color\":{\"value\":\"orange\"},\"x\":{\"field\":\"released_year\"},\"y1\":{\"expr\":{\"id\":\"1283\"}},\"y2\":{\"expr\":{\"id\":\"1284\"}}},\"id\":\"1289\",\"type\":\"VArea\"},{\"attributes\":{},\"id\":\"1266\",\"type\":\"BasicTicker\"},{\"attributes\":{\"coordinates\":null,\"group\":null,\"items\":[{\"id\":\"1304\"},{\"id\":\"1321\"}],\"location\":\"top_left\"},\"id\":\"1303\",\"type\":\"Legend\"},{\"attributes\":{},\"id\":\"1274\",\"type\":\"HelpTool\"},{\"attributes\":{},\"id\":\"1255\",\"type\":\"DataRange1d\"},{\"attributes\":{\"fields\":[\"budget\"]},\"id\":\"1284\",\"type\":\"Stack\"},{\"attributes\":{\"label\":{\"value\":\"Budget\"},\"renderers\":[{\"id\":\"1291\"}]},\"id\":\"1304\",\"type\":\"LegendItem\"},{\"attributes\":{\"fields\":[\"budget\",\"gross\"]},\"id\":\"1286\",\"type\":\"Stack\"},{\"attributes\":{\"fields\":[]},\"id\":\"1283\",\"type\":\"Stack\"},{\"attributes\":{\"fields\":[\"budget\"]},\"id\":\"1285\",\"type\":\"Stack\"},{\"attributes\":{\"axis_label\":\"(Millions of USD)\",\"coordinates\":null,\"formatter\":{\"id\":\"1295\"},\"group\":null,\"major_label_policy\":{\"id\":\"1296\"},\"ticker\":{\"id\":\"1266\"}},\"id\":\"1265\",\"type\":\"LinearAxis\"},{\"attributes\":{},\"id\":\"1300\",\"type\":\"UnionRenderers\"},{\"attributes\":{},\"id\":\"1301\",\"type\":\"Selection\"},{\"attributes\":{\"bottom_units\":\"screen\",\"coordinates\":null,\"fill_alpha\":0.5,\"fill_color\":\"lightgrey\",\"group\":null,\"left_units\":\"screen\",\"level\":\"overlay\",\"line_alpha\":1.0,\"line_color\":\"black\",\"line_dash\":[4,4],\"line_width\":2,\"right_units\":\"screen\",\"syncable\":false,\"top_units\":\"screen\"},\"id\":\"1275\",\"type\":\"BoxAnnotation\"},{\"attributes\":{\"coordinates\":null,\"data_source\":{\"id\":\"1249\"},\"glyph\":{\"id\":\"1288\"},\"group\":null,\"hover_glyph\":null,\"muted_glyph\":{\"id\":\"1290\"},\"name\":\"budget\",\"nonselection_glyph\":{\"id\":\"1289\"},\"view\":{\"id\":\"1292\"}},\"id\":\"1291\",\"type\":\"GlyphRenderer\"},{\"attributes\":{\"source\":{\"id\":\"1249\"}},\"id\":\"1292\",\"type\":\"CDSView\"},{\"attributes\":{\"fill_color\":\"orange\",\"hatch_color\":{\"value\":\"orange\"},\"x\":{\"field\":\"released_year\"},\"y1\":{\"expr\":{\"id\":\"1283\"}},\"y2\":{\"expr\":{\"id\":\"1284\"}}},\"id\":\"1288\",\"type\":\"VArea\"}],\"root_ids\":[\"1250\"]},\"title\":\"Bokeh Application\",\"version\":\"2.4.2\"}};\n",
              "  const render_items = [{\"docid\":\"046443be-ce06-4bbb-aaab-8c893610956f\",\"root_ids\":[\"1250\"],\"roots\":{\"1250\":\"9ccc7458-d8f2-4198-a5fd-c4fefa21da8a\"}}];\n",
              "  root.Bokeh.embed.embed_items_notebook(docs_json, render_items);\n",
              "\n",
              "  }\n",
              "  if (root.Bokeh !== undefined) {\n",
              "    embed_document(root);\n",
              "  } else {\n",
              "    let attempts = 0;\n",
              "    const timer = setInterval(function(root) {\n",
              "      if (root.Bokeh !== undefined) {\n",
              "        clearInterval(timer);\n",
              "        embed_document(root);\n",
              "      } else {\n",
              "        attempts++;\n",
              "        if (attempts > 100) {\n",
              "          clearInterval(timer);\n",
              "          console.log(\"Bokeh: ERROR: Unable to run BokehJS code because BokehJS library is missing\");\n",
              "        }\n",
              "      }\n",
              "    }, 10, root)\n",
              "  }\n",
              "})(window);"
            ],
            "application/vnd.bokehjs_exec.v0+json": ""
          },
          "metadata": {
            "application/vnd.bokehjs_exec.v0+json": {
              "id": "1250"
            }
          },
          "output_type": "display_data"
        }
      ],
      "source": [
        "date_group = imdb.groupby('released_year')\n",
        "metrics = date_group['gross'].mean()/1000000\n",
        "metrics_df = pd.DataFrame(metrics)\n",
        "metrics_df['budget'] = date_group['budget'].mean()/1000000\n",
        "metrics_df\n",
        "\n",
        "source = ColumnDataSource(metrics_df)\n",
        "\n",
        "#tooltips = [(\"Year\",\"@released_year\")]\n",
        "\n",
        "p = figure(width=400, height=400,\n",
        "           x_axis_label = \"Year Released\",\n",
        "           y_axis_label = \"(Millions of USD)\",\n",
        "           title=\"Gross Revenue & Budget Over Time\")#,\n",
        "          #tooltips=tooltips)\n",
        "\n",
        "p.varea_stack(['budget', 'gross'], x='released_year', color=(\"orange\", \"yellow\"), legend_label=(\"Budget\", \"Revenue\"),source=source)\n",
        "\n",
        "p.legend.location = \"top_left\"\n",
        "\n",
        "show(p)"
      ]
    },
    {
      "cell_type": "markdown",
      "id": "69faf7bb",
      "metadata": {
        "id": "69faf7bb"
      },
      "source": [
        "TOP COMPANIES BY NET PROFIT"
      ]
    },
    {
      "cell_type": "code",
      "execution_count": null,
      "id": "31f512fc",
      "metadata": {
        "id": "31f512fc",
        "outputId": "eb855ede-788e-4f30-9e69-cf7136ee2304"
      },
      "outputs": [
        {
          "data": {
            "text/html": [
              "\n",
              "\n",
              "\n",
              "\n",
              "\n",
              "\n",
              "  <div class=\"bk-root\" id=\"d864e1a0-11e9-4e7b-a31f-65cbab478fa0\" data-root-id=\"1535\"></div>\n"
            ]
          },
          "metadata": {},
          "output_type": "display_data"
        },
        {
          "data": {
            "application/javascript": [
              "(function(root) {\n",
              "  function embed_document(root) {\n",
              "    \n",
              "  const docs_json = {\"e939550f-01aa-4613-ac05-6761ab3dcf9a\":{\"defs\":[],\"roots\":{\"references\":[{\"attributes\":{\"below\":[{\"id\":\"1546\"}],\"center\":[{\"id\":\"1549\"},{\"id\":\"1552\"}],\"height\":250,\"left\":[{\"id\":\"1550\"}],\"renderers\":[{\"id\":\"1574\"}],\"title\":{\"id\":\"1536\"},\"toolbar\":{\"id\":\"1561\"},\"toolbar_location\":null,\"x_range\":{\"id\":\"1538\"},\"x_scale\":{\"id\":\"1542\"},\"y_range\":{\"id\":\"1540\"},\"y_scale\":{\"id\":\"1544\"}},\"id\":\"1535\",\"subtype\":\"Figure\",\"type\":\"Plot\"},{\"attributes\":{\"axis_label\":\"Top 15 Companies\",\"coordinates\":null,\"formatter\":{\"id\":\"1618\"},\"group\":null,\"major_label_policy\":{\"id\":\"1619\"},\"ticker\":{\"id\":\"1551\"}},\"id\":\"1550\",\"type\":\"CategoricalAxis\"},{\"attributes\":{},\"id\":\"1623\",\"type\":\"UnionRenderers\"},{\"attributes\":{},\"id\":\"1624\",\"type\":\"Selection\"},{\"attributes\":{\"bottom_units\":\"screen\",\"coordinates\":null,\"fill_alpha\":0.5,\"fill_color\":\"lightgrey\",\"group\":null,\"left_units\":\"screen\",\"level\":\"overlay\",\"line_alpha\":1.0,\"line_color\":\"black\",\"line_dash\":[4,4],\"line_width\":2,\"right_units\":\"screen\",\"syncable\":false,\"top_units\":\"screen\"},\"id\":\"1559\",\"type\":\"BoxAnnotation\"},{\"attributes\":{},\"id\":\"1544\",\"type\":\"CategoricalScale\"},{\"attributes\":{},\"id\":\"1553\",\"type\":\"PanTool\"},{\"attributes\":{},\"id\":\"1542\",\"type\":\"LinearScale\"},{\"attributes\":{\"fill_alpha\":{\"value\":0.2},\"fill_color\":{\"value\":\"red\"},\"hatch_alpha\":{\"value\":0.2},\"hatch_color\":{\"value\":\"red\"},\"height\":{\"value\":0.5},\"line_alpha\":{\"value\":0.2},\"right\":{\"field\":\"net\"},\"y\":{\"field\":\"company\"}},\"id\":\"1573\",\"type\":\"HBar\"},{\"attributes\":{\"axis\":{\"id\":\"1546\"},\"coordinates\":null,\"group\":null,\"ticker\":null},\"id\":\"1549\",\"type\":\"Grid\"},{\"attributes\":{\"data\":{\"company\":[\"Universal Pictures\",\"Warner Bros.\",\"Walt Disney Pictures\",\"Columbia Pictures\",\"Marvel Studios\",\"Paramount Pictures\",\"Twentieth Century Fox\",\"New Line Cinema\",\"DreamWorks Animation\",\"Summit Entertainment\",\"Metro-Goldwyn-Mayer (MGM)\",\"Lionsgate\",\"Walt Disney Animation Studios\",\"Lucasfilm\",\"Pixar Animation Studios\",\"Average (Top 15 Companies)\",\"Average (Of All Companies)\"],\"index\":[0,1,2,3,4,5,6,7,8,9,10,11,12,13,14,15,16],\"net\":{\"__ndarray__\":\"nkxxj4TDMEANChPez9AuQNQVOTL5MS1AOfaJj5H3KUAyIj+Fnc0oQL9befk4tidAAh3MdwedJUBcymb/HVQXQBhWZlRdYxZAQ9L15GRXFED8c+C7HiMNQAkQ8U6/sQxAvXnuYGt+DEBLdiUvVmMGQBVJ1SXM0AVAh+VAYgkFIUClI+cBk+LWPw==\",\"dtype\":\"float64\",\"order\":\"little\",\"shape\":[17]},\"num_movies\":[85,70,38,79,12,65,52,33,17,49,16,34,6,3,5,564,1524]},\"selected\":{\"id\":\"1624\"},\"selection_policy\":{\"id\":\"1623\"}},\"id\":\"1534\",\"type\":\"ColumnDataSource\"},{\"attributes\":{\"fill_color\":{\"value\":\"red\"},\"hatch_color\":{\"value\":\"red\"},\"height\":{\"value\":0.5},\"right\":{\"field\":\"net\"},\"y\":{\"field\":\"company\"}},\"id\":\"1570\",\"type\":\"HBar\"},{\"attributes\":{},\"id\":\"1557\",\"type\":\"ResetTool\"},{\"attributes\":{\"coordinates\":null,\"data_source\":{\"id\":\"1534\"},\"glyph\":{\"id\":\"1570\"},\"group\":null,\"hover_glyph\":{\"id\":\"1572\"},\"muted_glyph\":{\"id\":\"1573\"},\"nonselection_glyph\":{\"id\":\"1571\"},\"view\":{\"id\":\"1575\"}},\"id\":\"1574\",\"type\":\"GlyphRenderer\"},{\"attributes\":{\"factors\":[\"Universal Pictures\",\"Warner Bros.\",\"Walt Disney Pictures\",\"Columbia Pictures\",\"Marvel Studios\",\"Paramount Pictures\",\"Twentieth Century Fox\",\"New Line Cinema\",\"DreamWorks Animation\",\"Summit Entertainment\",\"Metro-Goldwyn-Mayer (MGM)\",\"Lionsgate\",\"Walt Disney Animation Studios\",\"Lucasfilm\",\"Pixar Animation Studios\",\"Average (Top 15 Companies)\",\"Average (Of All Companies)\"]},\"id\":\"1540\",\"type\":\"FactorRange\"},{\"attributes\":{\"coordinates\":null,\"group\":null,\"text\":\"Top Companies vs Net Profit\"},\"id\":\"1536\",\"type\":\"Title\"},{\"attributes\":{\"fill_alpha\":{\"value\":0.1},\"fill_color\":{\"value\":\"red\"},\"hatch_alpha\":{\"value\":0.1},\"hatch_color\":{\"value\":\"red\"},\"height\":{\"value\":0.5},\"line_alpha\":{\"value\":0.1},\"right\":{\"field\":\"net\"},\"y\":{\"field\":\"company\"}},\"id\":\"1571\",\"type\":\"HBar\"},{\"attributes\":{\"tools\":[{\"id\":\"1553\"},{\"id\":\"1554\"},{\"id\":\"1555\"},{\"id\":\"1556\"},{\"id\":\"1557\"},{\"id\":\"1558\"},{\"id\":\"1560\"}]},\"id\":\"1561\",\"type\":\"Toolbar\"},{\"attributes\":{\"end\":20},\"id\":\"1538\",\"type\":\"Range1d\"},{\"attributes\":{\"source\":{\"id\":\"1534\"}},\"id\":\"1575\",\"type\":\"CDSView\"},{\"attributes\":{},\"id\":\"1618\",\"type\":\"CategoricalTickFormatter\"},{\"attributes\":{\"axis_label\":\"Net Profit (Billions of USD)\",\"coordinates\":null,\"formatter\":{\"id\":\"1621\"},\"group\":null,\"major_label_policy\":{\"id\":\"1622\"},\"ticker\":{\"id\":\"1547\"}},\"id\":\"1546\",\"type\":\"LinearAxis\"},{\"attributes\":{\"fill_color\":{\"value\":\"blue\"},\"hatch_color\":{\"value\":\"red\"},\"height\":{\"value\":0.5},\"right\":{\"field\":\"net\"},\"y\":{\"field\":\"company\"}},\"id\":\"1572\",\"type\":\"HBar\"},{\"attributes\":{},\"id\":\"1619\",\"type\":\"AllLabels\"},{\"attributes\":{},\"id\":\"1621\",\"type\":\"BasicTickFormatter\"},{\"attributes\":{},\"id\":\"1554\",\"type\":\"WheelZoomTool\"},{\"attributes\":{},\"id\":\"1622\",\"type\":\"AllLabels\"},{\"attributes\":{},\"id\":\"1556\",\"type\":\"SaveTool\"},{\"attributes\":{},\"id\":\"1558\",\"type\":\"HelpTool\"},{\"attributes\":{},\"id\":\"1547\",\"type\":\"BasicTicker\"},{\"attributes\":{},\"id\":\"1551\",\"type\":\"CategoricalTicker\"},{\"attributes\":{\"overlay\":{\"id\":\"1559\"}},\"id\":\"1555\",\"type\":\"BoxZoomTool\"},{\"attributes\":{\"axis\":{\"id\":\"1550\"},\"coordinates\":null,\"dimension\":1,\"group\":null,\"ticker\":null},\"id\":\"1552\",\"type\":\"Grid\"},{\"attributes\":{\"callback\":null,\"tooltips\":[[\"Company: \",\"@company\"],[\"Net Profit: \",\"@net\"],[\"Number of Movies: \",\"@num_movies\"]]},\"id\":\"1560\",\"type\":\"HoverTool\"}],\"root_ids\":[\"1535\"]},\"title\":\"Bokeh Application\",\"version\":\"2.4.2\"}};\n",
              "  const render_items = [{\"docid\":\"e939550f-01aa-4613-ac05-6761ab3dcf9a\",\"root_ids\":[\"1535\"],\"roots\":{\"1535\":\"d864e1a0-11e9-4e7b-a31f-65cbab478fa0\"}}];\n",
              "  root.Bokeh.embed.embed_items_notebook(docs_json, render_items);\n",
              "\n",
              "  }\n",
              "  if (root.Bokeh !== undefined) {\n",
              "    embed_document(root);\n",
              "  } else {\n",
              "    let attempts = 0;\n",
              "    const timer = setInterval(function(root) {\n",
              "      if (root.Bokeh !== undefined) {\n",
              "        clearInterval(timer);\n",
              "        embed_document(root);\n",
              "      } else {\n",
              "        attempts++;\n",
              "        if (attempts > 100) {\n",
              "          clearInterval(timer);\n",
              "          console.log(\"Bokeh: ERROR: Unable to run BokehJS code because BokehJS library is missing\");\n",
              "        }\n",
              "      }\n",
              "    }, 10, root)\n",
              "  }\n",
              "})(window);"
            ],
            "application/vnd.bokehjs_exec.v0+json": ""
          },
          "metadata": {
            "application/vnd.bokehjs_exec.v0+json": {
              "id": "1535"
            }
          },
          "output_type": "display_data"
        }
      ],
      "source": [
        "this_decade = imdb[(imdb['decade'] == 2010) | (imdb['decade'] == 2020)]\n",
        "this_decade = this_decade[['name','company','gross','budget']].sort_values('gross',ascending=False)\n",
        "this_decade['net'] = this_decade['gross']-this_decade['budget'] \n",
        "recent_net_profits = this_decade[['name','company','net']]\n",
        "\n",
        "company = recent_net_profits.groupby(['company']).net.sum().sort_values(ascending=False).head(15).reset_index()\n",
        "\n",
        "\n",
        "movie_count = recent_net_profits.groupby(['company'])['name'].count()\n",
        "\n",
        "company = company.join(movie_count, on=\"company\")\n",
        "company.columns = ['company', 'net','num_movies']\n",
        "\n",
        "company.loc[15] = ['Average (Top 15 Companies)', company['net'].mean(), company['num_movies'].sum()]\n",
        "company.loc[16] = ['Average (Of All Companies)', \n",
        "                   recent_net_profits.groupby(['company']).net.sum().sort_values(ascending=False).reset_index()['net'].mean(), \n",
        "                   movie_count.sum()]\n",
        "\n",
        "company['net'] = (company['net']/1000000000) \n",
        "\n",
        "\n",
        "source=ColumnDataSource(company)\n",
        "\n",
        "tooltips = [(\"Company: \", \"@company\"),\n",
        "            (\"Net Profit: \", \"@net\"),\n",
        "            (\"Number of Movies: \", \"@num_movies\")]\n",
        "\n",
        "p = figure(y_range=source.data['company'], height=250, x_range=(0, 20), title=\"Top Companies vs Net Profit\",\n",
        "           toolbar_location=None, tooltips=tooltips, y_axis_label = \"Top 15 Companies\",\n",
        "           x_axis_label = \"Net Profit (Billions of USD)\",)\n",
        "\n",
        "p.hbar(y='company', right='net', height=0.5, color = \"red\", line_color='black',hover_fill_color = 'blue', source=source)\n",
        "\n",
        "show(p)"
      ]
    },
    {
      "cell_type": "markdown",
      "id": "fb7eee68",
      "metadata": {
        "id": "fb7eee68"
      },
      "source": [
        "CORRELATION ANALYSIS"
      ]
    },
    {
      "cell_type": "code",
      "execution_count": null,
      "id": "309fb437",
      "metadata": {
        "id": "309fb437",
        "outputId": "4622cbbb-8ba5-4ee4-a573-b19e37c68361"
      },
      "outputs": [
        {
          "name": "stdout",
          "output_type": "stream",
          "text": [
            "0.7403948929894826\n"
          ]
        },
        {
          "data": {
            "image/png": "[encoded data removed]",
            "text/plain": [
              "<Figure size 432x288 with 1 Axes>"
            ]
          },
          "metadata": {
            "needs_background": "light"
          },
          "output_type": "display_data"
        }
      ],
      "source": [
        "#BUDGET & REVENUE\n",
        "x=imdb[\"budget\"]/1000000\n",
        "y=imdb[\"gross\"]/1000000\n",
        "plt.scatter(x, y, color=\"blue\")\n",
        "#sns.regplot(x=\"budget\", y=\"gross\", data=imdb, scatter_kws={\"color\":\"black\"}, line_kws={\"color\":\"purple\"})\n",
        "plt.plot(np.unique(x), np.poly1d(np.polyfit(x, y, 1))\n",
        "         (np.unique(x)), color='red')\n",
        "plt.title(\"Budget vs Gross (Millions of USD)\")\n",
        "plt.xlabel(\"Budget of the film\")\n",
        "plt.ylabel(\"Gross Earnings\")\n",
        "\n",
        "correlation = y.corr(x)\n",
        "print(correlation) \n",
        "\n",
        "plt.show()"
      ]
    },
    {
      "cell_type": "code",
      "execution_count": null,
      "id": "ebec0444",
      "metadata": {
        "id": "ebec0444",
        "outputId": "3b5df18e-e2db-4f04-e1a1-48c8e4b2e755"
      },
      "outputs": [
        {
          "data": {
            "image/png": "[encoded data removed]",
            "text/plain": [
              "<Figure size 432x288 with 2 Axes>"
            ]
          },
          "metadata": {
            "needs_background": "light"
          },
          "output_type": "display_data"
        }
      ],
      "source": [
        "#CORRELATION MATRIX\n",
        "import seaborn as sns\n",
        "imdb.corr(method=\"pearson\")\n",
        "\n",
        "corr_matrix= imdb.corr(method=\"pearson\")\n",
        "sns.heatmap(corr_matrix, annot=True)\n",
        "plt.title(\"Correlation between Numeric Features\")\n",
        "plt.xlabel(\"Movie Features\")\n",
        "plt.ylabel(\"Movie Features\")\n",
        "plt.show()"
      ]
    },
    {
      "cell_type": "code",
      "execution_count": null,
      "id": "c2afe372",
      "metadata": {
        "id": "c2afe372",
        "outputId": "7431b58e-3b5a-439e-dac3-9bf4924b6e1a"
      },
      "outputs": [
        {
          "name": "stdout",
          "output_type": "stream",
          "text": [
            "0.22214336377548086\n"
          ]
        },
        {
          "data": {
            "image/png": "[encoded data removed]",
            "text/plain": [
              "<Figure size 432x288 with 1 Axes>"
            ]
          },
          "metadata": {
            "needs_background": "light"
          },
          "output_type": "display_data"
        }
      ],
      "source": [
        "#AUDIENCE SCORE & REVENUE\n",
        "x=imdb[\"score\"]\n",
        "y=imdb[\"gross\"]/1000000\n",
        "plt.scatter(x, y, color=\"blue\")\n",
        "#sns.regplot(x=\"budget\", y=\"gross\", data=imdb, scatter_kws={\"color\":\"black\"}, line_kws={\"color\":\"purple\"})\n",
        "plt.plot(np.unique(x), np.poly1d(np.polyfit(x, y, 1))\n",
        "         (np.unique(x)), color='red')\n",
        "plt.title(\"Score vs Gross\")\n",
        "plt.xlabel(\"Audience Score\")\n",
        "plt.ylabel(\"Gross Earnings (Millions of USD)\")\n",
        "\n",
        "correlation = y.corr(x)\n",
        "print(correlation) \n",
        "\n",
        "plt.show()"
      ]
    },
    {
      "cell_type": "code",
      "execution_count": null,
      "id": "98bb201f",
      "metadata": {
        "id": "98bb201f"
      },
      "outputs": [],
      "source": [
        ""
      ]
    }
  ],
  "metadata": {
    "kernelspec": {
      "display_name": "Python 3",
      "language": "python",
      "name": "python3"
    },
    "language_info": {
      "codemirror_mode": {
        "name": "ipython",
        "version": 3
      },
      "file_extension": ".py",
      "mimetype": "text/x-python",
      "name": "python",
      "nbconvert_exporter": "python",
      "pygments_lexer": "ipython3",
      "version": "3.8.8"
    },
    "colab": {
      "name": "Data Analytics Project - Final.ipynb",
      "provenance": []
    }
  },
  "nbformat": 4,
  "nbformat_minor": 5
}